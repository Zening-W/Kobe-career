{
 "cells": [
  {
   "cell_type": "code",
   "execution_count": 1,
   "metadata": {},
   "outputs": [],
   "source": [
    "import csv\n",
    "import json\n",
    "\n",
    "years = [\"1999\", \"2000\", \"2001\", \"2008\", \"2009\"]\n",
    "\n",
    "for year in years:\n",
    "    csv_file = f'lakers_data_{year}.csv'\n",
    "    json_file = f'lakers_data_{year}.json'\n",
    "\n",
    "    data = []\n",
    "    with open(csv_file, encoding='utf-8') as csvf:\n",
    "        csv_reader = csv.DictReader(csvf)\n",
    "        for row in csv_reader:\n",
    "            data.append(row)\n",
    "\n",
    "    with open(json_file, 'w', encoding='utf-8') as jsonf:\n",
    "        jsonf.write(json.dumps(data, indent=4))\n"
   ]
  }
 ],
 "metadata": {
  "kernelspec": {
   "display_name": "Python 3",
   "language": "python",
   "name": "python3"
  },
  "language_info": {
   "codemirror_mode": {
    "name": "ipython",
    "version": 3
   },
   "file_extension": ".py",
   "mimetype": "text/x-python",
   "name": "python",
   "nbconvert_exporter": "python",
   "pygments_lexer": "ipython3",
   "version": "3.8.18"
  }
 },
 "nbformat": 4,
 "nbformat_minor": 2
}
